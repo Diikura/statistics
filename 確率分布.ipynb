{
 "cells": [
  {
   "cell_type": "markdown",
   "metadata": {},
   "source": [
    "# 超幾何分布"
   ]
  },
  {
   "cell_type": "markdown",
   "metadata": {},
   "source": [
    "## 確率分布"
   ]
  },
  {
   "cell_type": "markdown",
   "metadata": {},
   "source": [
    "$f(x) = \\frac{_{M}\\mathrm{C}_{x} \\, \\times \\, _{N-M\\,}\\mathrm{C}_{n-x}}{_N \\mathrm{C} _n}$"
   ]
  },
  {
   "cell_type": "markdown",
   "metadata": {},
   "source": [
    "## 期待値"
   ]
  },
  {
   "cell_type": "markdown",
   "metadata": {},
   "source": [
    "$\n",
    "\\begin{eqnarray}\n",
    "E(X) &=& \\sum^{N}_{x=1} xf(x) \\\\\n",
    "     &=& \\sum^{N}_{x=1} x\\frac{_{M}\\mathrm{C}_{x} \\centerdot _{N-M}\\mathrm{C}_{n-x}}{_N \\mathrm{C} _n} \\\\\n",
    "     &=& \\sum^{N}_{x=1} x\\frac{\\frac{M!}{x!(M-x)!} \\centerdot _{N-M}\\mathrm{C}_{n-x}}{\\frac{N!}{n!(N-n)!}} \\\\\n",
    "     &=& \\sum^{N}_{x=1} x\\frac{\\frac{M(M-1)!}{x(x-1)!((M-1)-(x-1))!} \\centerdot _{N-M}\\mathrm{C}_{n-x}}{\\frac{N(N-1)!}{n(n-1)!((N-1)-(n-1))!}} \\\\\n",
    "     &=& \\frac{nM}{N}\\sum^{N}_{x=1} \\frac{\\frac{(M-1)!}{(x-1)!((M-1)-(x-1))!} \\centerdot _{N-M}\\mathrm{C}_{n-x}}{\\frac{(N-1)!}{(n-1)!((N-1)-(n-1))!}} \\\\\n",
    "     &=& \\frac{nM}{N}\\sum^{N}_{x=1} x\\frac{_{M-1}\\mathrm{C}_{x-1} \\centerdot _{N-M}\\mathrm{C}_{n-x}}{_{N-1} \\mathrm{C} _{n-1}} \\\\\n",
    "     &=& \\frac{nM}{N}\n",
    "\\end{eqnarray}\n",
    "$"
   ]
  },
  {
   "cell_type": "markdown",
   "metadata": {},
   "source": [
    "## 分散"
   ]
  },
  {
   "cell_type": "markdown",
   "metadata": {},
   "source": [
    "$\n",
    "\\begin{eqnarray}\n",
    "V(X) &=& E((X-E(X))^2) \\\\\n",
    "     &=& E(X^2 - 2XE(X) + E(X)^2) \\\\\n",
    "     &=& E(X^2) -2E(X)^2 + E(X)^2 \\\\\n",
    "　　　&=& E(X^2) - E(X)^2  \\\\\n",
    "     &=& E(X(X-1)) + E(X) - E(X)^2 \\\\\n",
    "\\end{eqnarray} \\\\\n",
    "より、E(X(X-1))がわかればV(X)を求めることができる。\n",
    "$"
   ]
  },
  {
   "cell_type": "markdown",
   "metadata": {},
   "source": [
    "$\n",
    "\\begin{eqnarray}\n",
    "E(X(X-1)) &=& \\sum^{N}_{x=1} x(x-1)f(x) \\\\\n",
    "          &=& \\sum^{N}_{x=1} x(x-1){x\\frac{_{M}\\mathrm{C}_{x} \\, \\centerdot _{N-M}\\mathrm{C}_{n-x}}{_N \\mathrm{C} _n}} \\\\\n",
    "          &=& \\sum^{N}_{x=1} x(x-1){x\\frac{\\frac{M(M-1)!}{x(x-1)!((M-1)-(x-1))!} \\centerdot _{N-M}\\mathrm{C}_{n-x}}{\\frac{N(N-1)!}{n(n-1)!((N-1)-(n-1))!}}} \\\\\n",
    "          &=& n\\,\\frac{M}{N}\\sum^{N}_{x=1} (x-1){\\frac{\\frac{(M-1)!}{(x-1)!((M-1)-(x-1))!} \\centerdot _{N-M}\\mathrm{C}_{n-x}}{\\frac{(N-1)!}{(n-1)!((N-1)-(n-1))!}}} \\\\\n",
    "          &=& n\\,\\frac{M}{N}\\sum^{N}_{x=1} (x-1){\\frac{\\frac{(M-1)(M-2)!}{(x-1)(x-2)!((M-2)-(x-2))!} \\centerdot _{N-M}\\mathrm{C}_{n-x}}{\\frac{(N-1)(N-2)!}{(n-1)(n-2)!((N-2)-(n-2))!}}} \\\\\n",
    "          &=& n(n-1)\\,\\frac{M(M-1)}{N(N-1)} \\sum^{N}_{x=1} {\\frac{\\frac{(M-2)!}{(x-2)!((M-2)-(x-2))!} \\centerdot _{N-M}\\mathrm{C}_{n-x}}{\\frac{(N-2)!}{(n-2)!((N-2)-(n-2))!}}} \\\\\n",
    "          &=& n(n-1)\\frac{M(M-1)}{N(N-1)} \\sum^{N}_{x=1} {\\frac{_{M-2\\,}\\mathrm{C}_{x-2} \\centerdot _{N-M}\\mathrm{C}_{n-x}}{_{N-2\\,}\\mathrm{C}_{n-2}}} \\\\\n",
    "          &=& n(n-1)\\frac{M(M-1)}{N(N-1)} \\\\\n",
    "\\end{eqnarray}\n",
    "$"
   ]
  },
  {
   "cell_type": "markdown",
   "metadata": {},
   "source": [
    "$\n",
    "よって、 \\\\\n",
    "\\begin{eqnarray}\n",
    "V(X) &=& E(X(X-1)) + E(X) - E(X)^2 \\\\\n",
    "     &=& n(n-1)\\frac{M(M-1)}{N(N-1)} + n\\frac{M}{N} - (n\\frac{M}{N})^2\\\\\n",
    "     &=& n(n-1)\\frac{M(M-1)}{N(N-1)} + n\\frac{M}{N} - n^2\\,\\frac{M^2}{N^2}\\\\\n",
    "     &=& n(n-1)\\frac{NM(M-1)}{N^2(N-1)} + n\\frac{NM(N-1)}{N^2(N-1)} - n^2\\,\\frac{M^2(N-1)}{N^2(N-1)}\\\\\n",
    "     &=& \\frac{nM}{N^2(N-1)}\\{N(n-1)(M-1) + N(N-1) - nM(N-1)\\}\\\\\n",
    "     &=& \\frac{nM}{N^2(N-1)}\\{nNM -nN -NM +N + N^2 -N - nNM +nM\\}\\\\\n",
    "     &=& \\frac{nM}{N^2(N-1)}(N^2 -nN -NM +nM)\\\\\n",
    "     &=& \\frac{nM}{N^2(N-1)}(N-n)(N-M)\\\\\n",
    "\\end{eqnarray}\n",
    "$"
   ]
  },
  {
   "cell_type": "markdown",
   "metadata": {},
   "source": [
    "## モーメント母関数"
   ]
  },
  {
   "cell_type": "markdown",
   "metadata": {},
   "source": [
    "難しいらしい。。"
   ]
  },
  {
   "cell_type": "markdown",
   "metadata": {},
   "source": [
    "## 確率母関数"
   ]
  },
  {
   "cell_type": "markdown",
   "metadata": {},
   "source": [
    "不明"
   ]
  },
  {
   "cell_type": "markdown",
   "metadata": {},
   "source": [
    "# 二項分布"
   ]
  },
  {
   "cell_type": "markdown",
   "metadata": {},
   "source": [
    "## 確率分布"
   ]
  },
  {
   "cell_type": "markdown",
   "metadata": {},
   "source": [
    "$f(x) = _{n}\\mathrm{C}_{x}p^{x}(1-p)^{1-x} $"
   ]
  },
  {
   "cell_type": "markdown",
   "metadata": {},
   "source": [
    "## 期待値"
   ]
  },
  {
   "cell_type": "markdown",
   "metadata": {},
   "source": [
    "$\n",
    "\\begin{eqnarray}\n",
    "E(X) &=& \\sum^n _{x=0}xf(x) \\,\\,ここで、x=0の時、(右辺)=0なのでxは1からとして良い。\\\\\n",
    "     &=& \\sum^n _{x=1}x \\,_{n}\\mathrm{C}_{x}p^{x}(1-p)^{n-x} \\\\\n",
    "     &=& \\sum^n _{x=1}x \\frac{n!}{x!(n-x)!}p^{x}(1-p)^{n-x} \\\\\n",
    "     &=& \\sum^n _{x=1}x \\frac{n(n-1)!}{x(x-1)!((n-1)-(x-1))!}p^{x}(1-p)^{n-x}\\\\\n",
    "     &=& ｎ \\sum^n _{x=1} \\frac{(n-1)!}{(x-1)!((n-1)-(x-1))!}p^{x}(1-p)^{n-x}\\\\\n",
    "     &=& ｎ \\sum^n _{x=1} \\,_{n-1}\\mathrm{C}_{x-1} p \\centerdot p^{x-1}(1-p)^{\\{(n-1)-(x-1)\\}}\\\\\n",
    "     &=& ｎp \\sum^n _{x=1} \\,_{n-1}\\mathrm{C}_{x-1} p^{x-1}(1-p)^{\\{(n-1)-(x-1)\\}} \\,\\,二項定理より、\\\\\n",
    "     &=& ｎp (p + (1 - p))^{n-1}\\\\\n",
    "     &=& ｎp\\\\\n",
    "\\end{eqnarray}\n",
    "$"
   ]
  },
  {
   "cell_type": "markdown",
   "metadata": {},
   "source": [
    "## 分散"
   ]
  },
  {
   "cell_type": "markdown",
   "metadata": {},
   "source": [
    "$\n",
    "\\begin{eqnarray}\n",
    "V(x) &=& E(X^2) - (E(X))^2 \\\\\n",
    "     &=& E(X(X-1)) + E(X) - (E(X))^2\n",
    "\\end{eqnarray}\n",
    "$"
   ]
  },
  {
   "cell_type": "markdown",
   "metadata": {},
   "source": [
    "$\n",
    "\\begin{eqnarray}\n",
    "E(X(X-1)) &=& \\sum^n _{x=2}x(x-1)f(x) \\,\\,※x=0, 1の時、(右辺)=0なので、xは2からとする\\\\\n",
    "          &=& \\sum^n _{x=2}x(x-1) \\,_{n}\\mathrm{C}_{x}p^{x}(1-p)^{1-x} \\\\\n",
    "          &=& \\sum^n _{x=2}x(x-1) \\frac{n(n-1)(n-2)!}{x(x-1)(x-2)!\\{(n-2)-(x-2)\\}!}p^2p^{x-2}(1-p)^{n-x}\\\\\n",
    "          &=& n(n-1)p^2\\sum^n _{x=2} \\frac{(n-2)!}{(x-2)!((n-2)-(x-2))!}p^{x-2}(1-p)^{(n-2)-(x-2)}\\\\\n",
    "          &=& n(n-1)p^2\\sum^n _{x=2} \\,_{n-2}\\mathrm{C}_{x-2}p^{x-2}(1-p)^{(n-2)-(x-2)}\\\\\n",
    "          &=& n(n-1)p^2 (p + (1 - p))^{n-2}\\\\\n",
    "          &=& n(n-1)p^2\\\\\n",
    "\\end{eqnarray}\n",
    "$"
   ]
  },
  {
   "cell_type": "markdown",
   "metadata": {},
   "source": [
    "よって、"
   ]
  },
  {
   "cell_type": "markdown",
   "metadata": {},
   "source": [
    "$\n",
    "\\begin{eqnarray}\n",
    "V(x) &=& E(X(X-1)) + E(X) - (E(X))^2 \\\\\n",
    "     &=& n(n-1)p^2 + np - n^2p^2 \\\\\n",
    "     &=& n^2p^2-np^2 + np - n^2p^2 \\\\\n",
    "     &=& np(1-p)\n",
    "\\end{eqnarray}\n",
    "$\n"
   ]
  },
  {
   "cell_type": "markdown",
   "metadata": {},
   "source": [
    "## モーメント母関数"
   ]
  },
  {
   "cell_type": "markdown",
   "metadata": {},
   "source": [
    "$\n",
    "\\begin{eqnarray}\n",
    "Mx(t) &=& \\sum^n _{x=0}e^{tx}f(x) \\\\\n",
    "      &=& \\sum^n _{x=0}e^{tx} \\,_{n}\\mathrm{C}_{x} p^{x}(1-p)^{n-x} \\\\\n",
    "      &=& \\sum^n _{x=0} \\,_{n}\\mathrm{C}_{x} (e^tp)^{x}(1-p)^{n-x} \\,\\,\\,\\,二項定理より、\\\\\n",
    "      &=& (e^tp + (1 - p))^n \\\\\n",
    "Mx'(t) &=& n(e^tp + (1 - p))^{n-1}e^tp \\\\\n",
    "Mx'(t) &=& np(e^tp + (1 - p))^{n-1}e^t \\\\\n",
    "Mx'(t=0) &=& np \\\\\n",
    "Mx''(t) &=& np((n-1)(e^tp + (1 - p))^{n-2}pe^{2t} + (e^tp + (1 - p))^{n-1}e^t) \\\\\n",
    "Mx''(t=0) &=& n(n-1)p^2 + np \\\\\n",
    "\\end{eqnarray}\n",
    "$"
   ]
  },
  {
   "cell_type": "markdown",
   "metadata": {},
   "source": [
    "$\n",
    "\\begin{eqnarray}\n",
    "V(x) &=& E(X^2) - (E(X))^2 \\\\\n",
    "     &=& n(n-1)p^2 + np - n^2p^2 \\\\\n",
    "     &=& np(1-p)\n",
    "\\end{eqnarray}\n",
    "$"
   ]
  },
  {
   "cell_type": "markdown",
   "metadata": {},
   "source": [
    "## 確率母関数"
   ]
  },
  {
   "cell_type": "markdown",
   "metadata": {},
   "source": [
    "$\n",
    "\\begin{eqnarray}\n",
    "Gx(t) &=& \\sum^n _{x=0}t^{x}f(x) \\\\\n",
    "      &=& \\sum^n _{x=0}t^{x}\\,_{n}\\mathrm{C}_{x} p^{x}(1-p)^{n-x} \\\\\n",
    "      &=& \\sum^n _{x=0} \\,_{n}\\mathrm{C}_{x} (tp)^{x}(1-p)^{n-x} \\\\\n",
    "      &=& (tp + 1 - p)^n \\\\\n",
    "\\end{eqnarray}\n",
    "$"
   ]
  },
  {
   "cell_type": "markdown",
   "metadata": {},
   "source": [
    "$\n",
    "\\begin{eqnarray}\n",
    "Gx'(t) &=& np(tp + 1 - p)^{n-1} \\\\\n",
    "Gx'(t=1) &=& np(p + 1 - p)^{n-1} \\\\\n",
    "Gx'(t=1) &=& np \\\\\n",
    "\\end{eqnarray}\n",
    "$"
   ]
  },
  {
   "cell_type": "markdown",
   "metadata": {},
   "source": [
    "$\n",
    "\\begin{eqnarray}\n",
    "Gx''(t) &=& n(n-1)p^2(tp + 1 - p)^{n-2} \\\\\n",
    "Gx''(t=0) &=& n(n-1)p^2 \\\\\n",
    "\\end{eqnarray}\n",
    "$"
   ]
  },
  {
   "cell_type": "markdown",
   "metadata": {},
   "source": [
    "$\n",
    "\\begin{eqnarray}\n",
    "V(X) &=& E(X^2) - (E(X))^2 \\\\\n",
    "     &=& E(X(X-1)) + E(X) - (E(X))^2 \\\\\n",
    "     &=& n(n-1)p^2 + np - n^2p^2 \\\\\n",
    "     &=& np(1-p)\n",
    "\\end{eqnarray}\n",
    "$"
   ]
  },
  {
   "cell_type": "markdown",
   "metadata": {},
   "source": []
  },
  {
   "cell_type": "markdown",
   "metadata": {},
   "source": []
  },
  {
   "cell_type": "markdown",
   "metadata": {},
   "source": []
  },
  {
   "cell_type": "markdown",
   "metadata": {},
   "source": []
  },
  {
   "cell_type": "markdown",
   "metadata": {},
   "source": []
  },
  {
   "cell_type": "markdown",
   "metadata": {},
   "source": []
  },
  {
   "cell_type": "markdown",
   "metadata": {},
   "source": []
  },
  {
   "cell_type": "markdown",
   "metadata": {},
   "source": []
  },
  {
   "cell_type": "markdown",
   "metadata": {},
   "source": []
  },
  {
   "cell_type": "markdown",
   "metadata": {},
   "source": []
  },
  {
   "cell_type": "markdown",
   "metadata": {},
   "source": []
  },
  {
   "cell_type": "markdown",
   "metadata": {},
   "source": []
  },
  {
   "cell_type": "markdown",
   "metadata": {},
   "source": []
  },
  {
   "cell_type": "markdown",
   "metadata": {},
   "source": []
  },
  {
   "cell_type": "markdown",
   "metadata": {},
   "source": []
  },
  {
   "cell_type": "markdown",
   "metadata": {},
   "source": []
  }
 ],
 "metadata": {
  "kernelspec": {
   "display_name": "Python 3",
   "language": "python",
   "name": "python3"
  },
  "language_info": {
   "codemirror_mode": {
    "name": "ipython",
    "version": 3
   },
   "file_extension": ".py",
   "mimetype": "text/x-python",
   "name": "python",
   "nbconvert_exporter": "python",
   "pygments_lexer": "ipython3",
   "version": "3.8.5"
  },
  "toc-autonumbering": true
 },
 "nbformat": 4,
 "nbformat_minor": 4
}
